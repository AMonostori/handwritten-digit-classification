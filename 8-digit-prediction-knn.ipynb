{
 "cells": [
  {
   "cell_type": "code",
   "execution_count": 1,
   "metadata": {},
   "outputs": [],
   "source": [
    "import pandas as pd\n",
    "import csv\n",
    "import numpy as np\n",
    "import scipy\n",
    "from sklearn.metrics import classification_report\n",
    "from sklearn.model_selection import train_test_split\n",
    "from sklearn.preprocessing import StandardScaler\n",
    "\n",
    "from sklearn.model_selection import cross_val_score\n",
    "from sklearn.model_selection import GridSearchCV\n",
    "from sklearn.model_selection import StratifiedKFold\n",
    "\n",
    "from sklearn.neighbors import KNeighborsClassifier\n",
    "\n",
    "import warnings\n",
    "warnings.filterwarnings(\"ignore\")"
   ]
  },
  {
   "cell_type": "markdown",
   "metadata": {},
   "source": [
    "Reading the dataset"
   ]
  },
  {
   "cell_type": "code",
   "execution_count": 2,
   "metadata": {},
   "outputs": [
    {
     "data": {
      "text/html": [
       "<div>\n",
       "<style scoped>\n",
       "    .dataframe tbody tr th:only-of-type {\n",
       "        vertical-align: middle;\n",
       "    }\n",
       "\n",
       "    .dataframe tbody tr th {\n",
       "        vertical-align: top;\n",
       "    }\n",
       "\n",
       "    .dataframe thead th {\n",
       "        text-align: right;\n",
       "    }\n",
       "</style>\n",
       "<table border=\"1\" class=\"dataframe\">\n",
       "  <thead>\n",
       "    <tr style=\"text-align: right;\">\n",
       "      <th></th>\n",
       "      <th>d1</th>\n",
       "      <th>d2</th>\n",
       "      <th>d3</th>\n",
       "      <th>d4</th>\n",
       "      <th>d5</th>\n",
       "      <th>d6</th>\n",
       "      <th>d7</th>\n",
       "      <th>d8</th>\n",
       "      <th>d9</th>\n",
       "      <th>d10</th>\n",
       "      <th>d11</th>\n",
       "      <th>d12</th>\n",
       "      <th>d13</th>\n",
       "      <th>d14</th>\n",
       "      <th>d15</th>\n",
       "      <th>d16</th>\n",
       "      <th>output</th>\n",
       "    </tr>\n",
       "  </thead>\n",
       "  <tbody>\n",
       "    <tr>\n",
       "      <th>0</th>\n",
       "      <td>80</td>\n",
       "      <td>100</td>\n",
       "      <td>18</td>\n",
       "      <td>98</td>\n",
       "      <td>60</td>\n",
       "      <td>66</td>\n",
       "      <td>100</td>\n",
       "      <td>29</td>\n",
       "      <td>42</td>\n",
       "      <td>0</td>\n",
       "      <td>0</td>\n",
       "      <td>23</td>\n",
       "      <td>42</td>\n",
       "      <td>61</td>\n",
       "      <td>56</td>\n",
       "      <td>98</td>\n",
       "      <td>8</td>\n",
       "    </tr>\n",
       "    <tr>\n",
       "      <th>1</th>\n",
       "      <td>0</td>\n",
       "      <td>94</td>\n",
       "      <td>9</td>\n",
       "      <td>57</td>\n",
       "      <td>20</td>\n",
       "      <td>19</td>\n",
       "      <td>7</td>\n",
       "      <td>0</td>\n",
       "      <td>20</td>\n",
       "      <td>36</td>\n",
       "      <td>70</td>\n",
       "      <td>68</td>\n",
       "      <td>100</td>\n",
       "      <td>100</td>\n",
       "      <td>18</td>\n",
       "      <td>92</td>\n",
       "      <td>8</td>\n",
       "    </tr>\n",
       "    <tr>\n",
       "      <th>2</th>\n",
       "      <td>95</td>\n",
       "      <td>82</td>\n",
       "      <td>71</td>\n",
       "      <td>100</td>\n",
       "      <td>27</td>\n",
       "      <td>77</td>\n",
       "      <td>77</td>\n",
       "      <td>73</td>\n",
       "      <td>100</td>\n",
       "      <td>80</td>\n",
       "      <td>93</td>\n",
       "      <td>42</td>\n",
       "      <td>56</td>\n",
       "      <td>13</td>\n",
       "      <td>0</td>\n",
       "      <td>0</td>\n",
       "      <td>9</td>\n",
       "    </tr>\n",
       "    <tr>\n",
       "      <th>3</th>\n",
       "      <td>68</td>\n",
       "      <td>100</td>\n",
       "      <td>6</td>\n",
       "      <td>88</td>\n",
       "      <td>47</td>\n",
       "      <td>75</td>\n",
       "      <td>87</td>\n",
       "      <td>82</td>\n",
       "      <td>85</td>\n",
       "      <td>56</td>\n",
       "      <td>100</td>\n",
       "      <td>29</td>\n",
       "      <td>75</td>\n",
       "      <td>6</td>\n",
       "      <td>0</td>\n",
       "      <td>0</td>\n",
       "      <td>9</td>\n",
       "    </tr>\n",
       "    <tr>\n",
       "      <th>4</th>\n",
       "      <td>70</td>\n",
       "      <td>100</td>\n",
       "      <td>100</td>\n",
       "      <td>97</td>\n",
       "      <td>70</td>\n",
       "      <td>81</td>\n",
       "      <td>45</td>\n",
       "      <td>65</td>\n",
       "      <td>30</td>\n",
       "      <td>49</td>\n",
       "      <td>20</td>\n",
       "      <td>33</td>\n",
       "      <td>0</td>\n",
       "      <td>16</td>\n",
       "      <td>0</td>\n",
       "      <td>0</td>\n",
       "      <td>1</td>\n",
       "    </tr>\n",
       "  </tbody>\n",
       "</table>\n",
       "</div>"
      ],
      "text/plain": [
       "   d1   d2   d3   d4  d5  d6   d7  d8   d9  d10  d11  d12  d13  d14  d15  d16  \\\n",
       "0  80  100   18   98  60  66  100  29   42    0    0   23   42   61   56   98   \n",
       "1   0   94    9   57  20  19    7   0   20   36   70   68  100  100   18   92   \n",
       "2  95   82   71  100  27  77   77  73  100   80   93   42   56   13    0    0   \n",
       "3  68  100    6   88  47  75   87  82   85   56  100   29   75    6    0    0   \n",
       "4  70  100  100   97  70  81   45  65   30   49   20   33    0   16    0    0   \n",
       "\n",
       "   output  \n",
       "0       8  \n",
       "1       8  \n",
       "2       9  \n",
       "3       9  \n",
       "4       1  "
      ]
     },
     "execution_count": 2,
     "metadata": {},
     "output_type": "execute_result"
    }
   ],
   "source": [
    "dataset = pd.read_csv('digits.csv')\n",
    "dataset.columns=['d1', 'd2', 'd3', 'd4', 'd5', 'd6', 'd7', 'd8', 'd9', 'd10', 'd11', 'd12', 'd13', 'd14', 'd15', 'd16', 'output']\n",
    "dataset.head(5)"
   ]
  },
  {
   "cell_type": "markdown",
   "metadata": {},
   "source": [
    "Train-test split"
   ]
  },
  {
   "cell_type": "code",
   "execution_count": 3,
   "metadata": {},
   "outputs": [],
   "source": [
    "train, test = train_test_split(dataset, train_size=0.8, random_state=8)\n",
    "test.reset_index(drop=True)\n",
    "xtrain = train.iloc[:, 0:-1]\n",
    "ytrain = train.iloc[:,-1]\n",
    "xtest = test.iloc[:, 0:-1]\n",
    "ytest = test.iloc[:,-1]"
   ]
  },
  {
   "cell_type": "markdown",
   "metadata": {},
   "source": [
    "Feature scaling\n",
    "\n",
    "KNN uses distance based evaluation therefore feature scaling is important."
   ]
  },
  {
   "cell_type": "code",
   "execution_count": 4,
   "metadata": {},
   "outputs": [],
   "source": [
    "scaler = StandardScaler()\n",
    "xtrain = scaler.fit_transform(xtrain)\n",
    "xtest = scaler.fit_transform(xtest)"
   ]
  },
  {
   "cell_type": "markdown",
   "metadata": {},
   "source": [
    "## K-Nearest Neighbours classifier"
   ]
  },
  {
   "cell_type": "code",
   "execution_count": 5,
   "metadata": {},
   "outputs": [
    {
     "data": {
      "text/plain": [
       "{'algorithm': 'ball_tree',\n",
       " 'leaf_size': 5,\n",
       " 'n_neighbors': 4,\n",
       " 'p': 1,\n",
       " 'weights': 'distance'}"
      ]
     },
     "execution_count": 5,
     "metadata": {},
     "output_type": "execute_result"
    }
   ],
   "source": [
    "classifier_knn = KNeighborsClassifier()\n",
    "parameters_knn = {'n_neighbors': [3,4,5,6],\n",
    "              'weights': ['uniform', 'distance', 'None'],\n",
    "              'algorithm': ['ball_tree', 'kd_tree', 'brute'],\n",
    "              'leaf_size': [5,15,30,50,100],\n",
    "              'p': [1,2]         \n",
    "              }\n",
    "\n",
    "gridsearch_knn = GridSearchCV(classifier_knn, param_grid=parameters_knn, cv=StratifiedKFold(5,shuffle=True))\n",
    "\n",
    "gridsearch_knn.fit(xtrain,ytrain)\n",
    "\n",
    "ypred_knn = gridsearch_knn.predict(xtest)\n",
    "\n",
    "gridsearch_knn.best_params_"
   ]
  },
  {
   "cell_type": "code",
   "execution_count": 6,
   "metadata": {},
   "outputs": [
    {
     "name": "stdout",
     "output_type": "stream",
     "text": [
      "              precision    recall  f1-score   support\n",
      "\n",
      "           0       1.00      0.99      1.00       229\n",
      "           1       1.00      0.98      0.99       233\n",
      "           2       0.98      1.00      0.99       237\n",
      "           3       1.00      1.00      1.00       213\n",
      "           4       1.00      1.00      1.00       223\n",
      "           5       0.99      1.00      1.00       188\n",
      "           6       1.00      1.00      1.00       230\n",
      "           7       1.00      1.00      1.00       221\n",
      "           8       1.00      1.00      1.00       228\n",
      "           9       0.99      0.99      0.99       197\n",
      "\n",
      "    accuracy                           0.99      2199\n",
      "   macro avg       1.00      1.00      1.00      2199\n",
      "weighted avg       1.00      0.99      1.00      2199\n",
      "\n"
     ]
    }
   ],
   "source": [
    "print(classification_report(ytest, ypred_knn))"
   ]
  }
 ],
 "metadata": {
  "kernelspec": {
   "display_name": "base",
   "language": "python",
   "name": "python3"
  },
  "language_info": {
   "codemirror_mode": {
    "name": "ipython",
    "version": 3
   },
   "file_extension": ".py",
   "mimetype": "text/x-python",
   "name": "python",
   "nbconvert_exporter": "python",
   "pygments_lexer": "ipython3",
   "version": "3.9.13"
  },
  "orig_nbformat": 4
 },
 "nbformat": 4,
 "nbformat_minor": 2
}
