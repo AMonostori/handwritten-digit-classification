{
 "cells": [
  {
   "cell_type": "code",
   "execution_count": 1,
   "metadata": {},
   "outputs": [],
   "source": [
    "import pandas as pd\n",
    "import csv\n",
    "import numpy as np\n",
    "from sklearn.model_selection import train_test_split\n",
    "from sklearn.preprocessing import StandardScaler\n",
    "\n",
    "import tensorflow as tf\n",
    "from tensorflow import keras\n",
    "from keras.wrappers.scikit_learn import KerasClassifier\n",
    "from keras.utils import np_utils\n",
    "\n",
    "# for modeling\n",
    "from keras.models import Sequential\n",
    "from keras.layers import Dense, Dropout\n",
    "from keras.callbacks import EarlyStopping\n",
    "\n",
    "import warnings\n",
    "warnings.filterwarnings(\"ignore\")"
   ]
  },
  {
   "cell_type": "markdown",
   "metadata": {},
   "source": [
    "Reading the dataset"
   ]
  },
  {
   "cell_type": "code",
   "execution_count": 2,
   "metadata": {},
   "outputs": [
    {
     "data": {
      "text/html": [
       "<div>\n",
       "<style scoped>\n",
       "    .dataframe tbody tr th:only-of-type {\n",
       "        vertical-align: middle;\n",
       "    }\n",
       "\n",
       "    .dataframe tbody tr th {\n",
       "        vertical-align: top;\n",
       "    }\n",
       "\n",
       "    .dataframe thead th {\n",
       "        text-align: right;\n",
       "    }\n",
       "</style>\n",
       "<table border=\"1\" class=\"dataframe\">\n",
       "  <thead>\n",
       "    <tr style=\"text-align: right;\">\n",
       "      <th></th>\n",
       "      <th>d1</th>\n",
       "      <th>d2</th>\n",
       "      <th>d3</th>\n",
       "      <th>d4</th>\n",
       "      <th>d5</th>\n",
       "      <th>d6</th>\n",
       "      <th>d7</th>\n",
       "      <th>d8</th>\n",
       "      <th>d9</th>\n",
       "      <th>d10</th>\n",
       "      <th>d11</th>\n",
       "      <th>d12</th>\n",
       "      <th>d13</th>\n",
       "      <th>d14</th>\n",
       "      <th>d15</th>\n",
       "      <th>d16</th>\n",
       "      <th>output</th>\n",
       "    </tr>\n",
       "  </thead>\n",
       "  <tbody>\n",
       "    <tr>\n",
       "      <th>0</th>\n",
       "      <td>80</td>\n",
       "      <td>100</td>\n",
       "      <td>18</td>\n",
       "      <td>98</td>\n",
       "      <td>60</td>\n",
       "      <td>66</td>\n",
       "      <td>100</td>\n",
       "      <td>29</td>\n",
       "      <td>42</td>\n",
       "      <td>0</td>\n",
       "      <td>0</td>\n",
       "      <td>23</td>\n",
       "      <td>42</td>\n",
       "      <td>61</td>\n",
       "      <td>56</td>\n",
       "      <td>98</td>\n",
       "      <td>8</td>\n",
       "    </tr>\n",
       "    <tr>\n",
       "      <th>1</th>\n",
       "      <td>0</td>\n",
       "      <td>94</td>\n",
       "      <td>9</td>\n",
       "      <td>57</td>\n",
       "      <td>20</td>\n",
       "      <td>19</td>\n",
       "      <td>7</td>\n",
       "      <td>0</td>\n",
       "      <td>20</td>\n",
       "      <td>36</td>\n",
       "      <td>70</td>\n",
       "      <td>68</td>\n",
       "      <td>100</td>\n",
       "      <td>100</td>\n",
       "      <td>18</td>\n",
       "      <td>92</td>\n",
       "      <td>8</td>\n",
       "    </tr>\n",
       "    <tr>\n",
       "      <th>2</th>\n",
       "      <td>95</td>\n",
       "      <td>82</td>\n",
       "      <td>71</td>\n",
       "      <td>100</td>\n",
       "      <td>27</td>\n",
       "      <td>77</td>\n",
       "      <td>77</td>\n",
       "      <td>73</td>\n",
       "      <td>100</td>\n",
       "      <td>80</td>\n",
       "      <td>93</td>\n",
       "      <td>42</td>\n",
       "      <td>56</td>\n",
       "      <td>13</td>\n",
       "      <td>0</td>\n",
       "      <td>0</td>\n",
       "      <td>9</td>\n",
       "    </tr>\n",
       "    <tr>\n",
       "      <th>3</th>\n",
       "      <td>68</td>\n",
       "      <td>100</td>\n",
       "      <td>6</td>\n",
       "      <td>88</td>\n",
       "      <td>47</td>\n",
       "      <td>75</td>\n",
       "      <td>87</td>\n",
       "      <td>82</td>\n",
       "      <td>85</td>\n",
       "      <td>56</td>\n",
       "      <td>100</td>\n",
       "      <td>29</td>\n",
       "      <td>75</td>\n",
       "      <td>6</td>\n",
       "      <td>0</td>\n",
       "      <td>0</td>\n",
       "      <td>9</td>\n",
       "    </tr>\n",
       "    <tr>\n",
       "      <th>4</th>\n",
       "      <td>70</td>\n",
       "      <td>100</td>\n",
       "      <td>100</td>\n",
       "      <td>97</td>\n",
       "      <td>70</td>\n",
       "      <td>81</td>\n",
       "      <td>45</td>\n",
       "      <td>65</td>\n",
       "      <td>30</td>\n",
       "      <td>49</td>\n",
       "      <td>20</td>\n",
       "      <td>33</td>\n",
       "      <td>0</td>\n",
       "      <td>16</td>\n",
       "      <td>0</td>\n",
       "      <td>0</td>\n",
       "      <td>1</td>\n",
       "    </tr>\n",
       "  </tbody>\n",
       "</table>\n",
       "</div>"
      ],
      "text/plain": [
       "   d1   d2   d3   d4  d5  d6   d7  d8   d9  d10  d11  d12  d13  d14  d15  d16  \\\n",
       "0  80  100   18   98  60  66  100  29   42    0    0   23   42   61   56   98   \n",
       "1   0   94    9   57  20  19    7   0   20   36   70   68  100  100   18   92   \n",
       "2  95   82   71  100  27  77   77  73  100   80   93   42   56   13    0    0   \n",
       "3  68  100    6   88  47  75   87  82   85   56  100   29   75    6    0    0   \n",
       "4  70  100  100   97  70  81   45  65   30   49   20   33    0   16    0    0   \n",
       "\n",
       "   output  \n",
       "0       8  \n",
       "1       8  \n",
       "2       9  \n",
       "3       9  \n",
       "4       1  "
      ]
     },
     "execution_count": 2,
     "metadata": {},
     "output_type": "execute_result"
    }
   ],
   "source": [
    "dataset = pd.read_csv('digits.csv')\n",
    "dataset.columns=['d1', 'd2', 'd3', 'd4', 'd5', 'd6', 'd7', 'd8', 'd9', 'd10', 'd11', 'd12', 'd13', 'd14', 'd15', 'd16', 'output']\n",
    "dataset.head(5)"
   ]
  },
  {
   "cell_type": "markdown",
   "metadata": {},
   "source": [
    "Train-test split"
   ]
  },
  {
   "cell_type": "code",
   "execution_count": 3,
   "metadata": {},
   "outputs": [],
   "source": [
    "train, test = train_test_split(dataset, train_size=0.8, random_state=8)\n",
    "test.reset_index(drop=True)\n",
    "xtrain = train.iloc[:, 0:-1]\n",
    "ytrain = train.iloc[:,-1]\n",
    "xtest = test.iloc[:, 0:-1]\n",
    "ytest = test.iloc[:,-1]"
   ]
  },
  {
   "cell_type": "markdown",
   "metadata": {},
   "source": [
    "## Neural network"
   ]
  },
  {
   "cell_type": "markdown",
   "metadata": {},
   "source": [
    "Building the framework"
   ]
  },
  {
   "cell_type": "code",
   "execution_count": 4,
   "metadata": {},
   "outputs": [
    {
     "name": "stdout",
     "output_type": "stream",
     "text": [
      "Model: \"sequential\"\n",
      "_________________________________________________________________\n",
      " Layer (type)                Output Shape              Param #   \n",
      "=================================================================\n",
      " dense (Dense)               (None, 16)                272       \n",
      "                                                                 \n",
      " dense_1 (Dense)             (None, 128)               2176      \n",
      "                                                                 \n",
      " dense_2 (Dense)             (None, 128)               16512     \n",
      "                                                                 \n",
      " dense_3 (Dense)             (None, 10)                1290      \n",
      "                                                                 \n",
      "=================================================================\n",
      "Total params: 20,250\n",
      "Trainable params: 20,250\n",
      "Non-trainable params: 0\n",
      "_________________________________________________________________\n"
     ]
    }
   ],
   "source": [
    "model = Sequential()\n",
    "model.add(Dense(16, input_shape=(xtrain.shape[1],), activation='relu')) \n",
    "model.add(Dense(128, activation='relu'))\n",
    "model.add(Dense(128, activation='relu'))\n",
    "model.add(Dense(10, activation='softmax'))\n",
    "model.summary()"
   ]
  },
  {
   "cell_type": "markdown",
   "metadata": {},
   "source": [
    "Defining the optimization algorithm"
   ]
  },
  {
   "cell_type": "code",
   "execution_count": 5,
   "metadata": {},
   "outputs": [],
   "source": [
    "model.compile(optimizer='adam', \n",
    "              loss='categorical_crossentropy', \n",
    "              metrics=['accuracy'])"
   ]
  },
  {
   "cell_type": "markdown",
   "metadata": {},
   "source": [
    "Define early stopping method"
   ]
  },
  {
   "cell_type": "code",
   "execution_count": 6,
   "metadata": {},
   "outputs": [],
   "source": [
    "es = keras.callbacks.EarlyStopping(monitor='val_loss', \n",
    "                                   mode='min',\n",
    "                                   patience=5, \n",
    "                                   restore_best_weights=True)"
   ]
  },
  {
   "cell_type": "markdown",
   "metadata": {},
   "source": [
    "Encoding the output using one-hot encoding"
   ]
  },
  {
   "cell_type": "code",
   "execution_count": 7,
   "metadata": {},
   "outputs": [],
   "source": [
    "Y_train_onehot = tf.keras.utils.to_categorical(ytrain)\n",
    "Y_test_onehot = tf.keras.utils.to_categorical(ytest)"
   ]
  },
  {
   "cell_type": "markdown",
   "metadata": {},
   "source": [
    "Fitting the algorithm"
   ]
  },
  {
   "cell_type": "code",
   "execution_count": 8,
   "metadata": {},
   "outputs": [
    {
     "name": "stdout",
     "output_type": "stream",
     "text": [
      "Epoch 1/20\n",
      "704/704 [==============================] - 2s 2ms/step - loss: 0.6995 - accuracy: 0.8528 - val_loss: 0.4072 - val_accuracy: 0.9096\n",
      "Epoch 2/20\n",
      "704/704 [==============================] - 1s 2ms/step - loss: 0.2118 - accuracy: 0.9400 - val_loss: 0.1479 - val_accuracy: 0.9665\n",
      "Epoch 3/20\n",
      "704/704 [==============================] - 1s 1ms/step - loss: 0.1195 - accuracy: 0.9676 - val_loss: 0.1578 - val_accuracy: 0.9557\n",
      "Epoch 4/20\n",
      "704/704 [==============================] - 1s 1ms/step - loss: 0.1021 - accuracy: 0.9701 - val_loss: 0.0906 - val_accuracy: 0.9756\n",
      "Epoch 5/20\n",
      "704/704 [==============================] - 1s 1ms/step - loss: 0.0861 - accuracy: 0.9758 - val_loss: 0.1883 - val_accuracy: 0.9426\n",
      "Epoch 6/20\n",
      "704/704 [==============================] - 1s 1ms/step - loss: 0.0756 - accuracy: 0.9765 - val_loss: 0.0996 - val_accuracy: 0.9750\n",
      "Epoch 7/20\n",
      "704/704 [==============================] - 1s 1ms/step - loss: 0.0602 - accuracy: 0.9827 - val_loss: 0.0772 - val_accuracy: 0.9829\n",
      "Epoch 8/20\n",
      "704/704 [==============================] - 1s 1ms/step - loss: 0.0564 - accuracy: 0.9828 - val_loss: 0.1067 - val_accuracy: 0.9778\n",
      "Epoch 9/20\n",
      "704/704 [==============================] - 1s 1ms/step - loss: 0.0528 - accuracy: 0.9861 - val_loss: 0.1075 - val_accuracy: 0.9710\n",
      "Epoch 10/20\n",
      "704/704 [==============================] - 1s 1ms/step - loss: 0.0566 - accuracy: 0.9854 - val_loss: 0.1617 - val_accuracy: 0.9733\n",
      "Epoch 11/20\n",
      "704/704 [==============================] - 1s 1ms/step - loss: 0.0584 - accuracy: 0.9835 - val_loss: 0.1006 - val_accuracy: 0.9750\n",
      "Epoch 12/20\n",
      "704/704 [==============================] - 1s 1ms/step - loss: 0.0564 - accuracy: 0.9845 - val_loss: 0.0631 - val_accuracy: 0.9864\n",
      "Epoch 13/20\n",
      "704/704 [==============================] - 1s 1ms/step - loss: 0.0427 - accuracy: 0.9872 - val_loss: 0.0919 - val_accuracy: 0.9727\n",
      "Epoch 14/20\n",
      "704/704 [==============================] - 1s 1ms/step - loss: 0.0370 - accuracy: 0.9896 - val_loss: 0.1424 - val_accuracy: 0.9676\n",
      "Epoch 15/20\n",
      "704/704 [==============================] - 1s 2ms/step - loss: 0.0367 - accuracy: 0.9892 - val_loss: 0.1094 - val_accuracy: 0.9750\n",
      "Epoch 16/20\n",
      "704/704 [==============================] - 1s 1ms/step - loss: 0.0432 - accuracy: 0.9878 - val_loss: 0.1063 - val_accuracy: 0.9767\n",
      "Epoch 17/20\n",
      "704/704 [==============================] - 1s 1ms/step - loss: 0.0487 - accuracy: 0.9864 - val_loss: 0.1007 - val_accuracy: 0.9807\n"
     ]
    }
   ],
   "source": [
    "yhistory = model.fit(xtrain,\n",
    "                    Y_train_onehot,\n",
    "                    callbacks=[es],\n",
    "                    epochs=20, \n",
    "                    batch_size=10,\n",
    "                    shuffle=True,\n",
    "                    validation_split=0.2,\n",
    "                    verbose=1)"
   ]
  },
  {
   "cell_type": "markdown",
   "metadata": {},
   "source": [
    "Evaluate the prediction accuracy"
   ]
  },
  {
   "cell_type": "code",
   "execution_count": 9,
   "metadata": {},
   "outputs": [
    {
     "name": "stdout",
     "output_type": "stream",
     "text": [
      "69/69 [==============================] - 0s 915us/step\n",
      "0.992269213278763\n"
     ]
    }
   ],
   "source": [
    "y_preds = model.predict(xtest)\n",
    "print((y_preds.argmax(axis=-1) == ytest).sum() / len(xtest))"
   ]
  }
 ],
 "metadata": {
  "kernelspec": {
   "display_name": "base",
   "language": "python",
   "name": "python3"
  },
  "language_info": {
   "codemirror_mode": {
    "name": "ipython",
    "version": 3
   },
   "file_extension": ".py",
   "mimetype": "text/x-python",
   "name": "python",
   "nbconvert_exporter": "python",
   "pygments_lexer": "ipython3",
   "version": "3.9.13"
  },
  "orig_nbformat": 4
 },
 "nbformat": 4,
 "nbformat_minor": 2
}
